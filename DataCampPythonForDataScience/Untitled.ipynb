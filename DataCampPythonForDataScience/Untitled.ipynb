{
 "cells": [
  {
   "cell_type": "code",
   "execution_count": null,
   "metadata": {},
   "outputs": [],
   "source": [
    "import time\n",
    "from threading import Thread\n",
    "\n",
    "global globalx\n",
    "globalx = 1\n",
    "\n",
    "def taskinbg():    \n",
    "    for x in range(100000):\n",
    "        time.sleep(1)\n",
    "        global globalx\n",
    "        globalx = x\n",
    "        print(\"Working in bg: \"+str(x))\n",
    "        \n",
    "taskThread = Thread(target = taskinbg)\n",
    "taskThread.start()\n",
    "\n",
    "for x in range(100):\n",
    "    time.sleep(3)\n",
    "    #global globalx\n",
    "    print('globalx in main: ',globalx)\n",
    "    print(x)"
   ]
  },
  {
   "cell_type": "code",
   "execution_count": null,
   "metadata": {},
   "outputs": [],
   "source": []
  }
 ],
 "metadata": {
  "kernelspec": {
   "display_name": "Python 3",
   "language": "python",
   "name": "python3"
  },
  "language_info": {
   "codemirror_mode": {
    "name": "ipython",
    "version": 3
   },
   "file_extension": ".py",
   "mimetype": "text/x-python",
   "name": "python",
   "nbconvert_exporter": "python",
   "pygments_lexer": "ipython3",
   "version": "3.6.5"
  }
 },
 "nbformat": 4,
 "nbformat_minor": 2
}
